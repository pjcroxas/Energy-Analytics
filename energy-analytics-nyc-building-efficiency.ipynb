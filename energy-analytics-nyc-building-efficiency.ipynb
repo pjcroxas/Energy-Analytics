{
 "cells": [
  {
   "cell_type": "code",
   "execution_count": 1,
   "id": "62f49fd9",
   "metadata": {
    "_cell_guid": "b1076dfc-b9ad-4769-8c92-a6c4dae69d19",
    "_uuid": "8f2839f25d086af736a60e9eeb907d3b93b6e0e5",
    "execution": {
     "iopub.execute_input": "2024-07-25T03:30:56.646243Z",
     "iopub.status.busy": "2024-07-25T03:30:56.645074Z",
     "iopub.status.idle": "2024-07-25T03:30:57.859010Z",
     "shell.execute_reply": "2024-07-25T03:30:57.857697Z"
    },
    "papermill": {
     "duration": 1.226879,
     "end_time": "2024-07-25T03:30:57.863125",
     "exception": false,
     "start_time": "2024-07-25T03:30:56.636246",
     "status": "completed"
    },
    "tags": []
   },
   "outputs": [
    {
     "name": "stdout",
     "output_type": "stream",
     "text": [
      "['/kaggle/input/nyc-building-energy-efficiency-ratings/geojson_lookup_rows.csv', '/kaggle/input/nyc-building-energy-efficiency-ratings/energy_disclosure_2021_rows.csv']\n"
     ]
    }
   ],
   "source": [
    "# This Python 3 environment comes with many helpful analytics libraries installed\n",
    "# It is defined by the kaggle/python Docker image: https://github.com/kaggle/docker-python\n",
    "# For example, here's several helpful packages to load\n",
    "\n",
    "import numpy as np # linear algebra\n",
    "import pandas as pd # data processing, CSV file I/O (e.g. pd.read_csv)\n",
    "import geopandas as gpd\n",
    "\n",
    "# Input data files are available in the read-only \"../input/\" directory\n",
    "# For example, running this (by clicking run or pressing Shift+Enter) will list all files under the input directory\n",
    "\n",
    "import os\n",
    "dir_files = []\n",
    "for dirname, _, filenames in os.walk('/kaggle/input'):\n",
    "    for filename in filenames:\n",
    "#         print(os.path.join(dirname, filename))\n",
    "        dir_files.append(os.path.join(dirname, filename))\n",
    "    \n",
    "print(dir_files)\n",
    "\n",
    "# You can write up to 20GB to the current directory (/kaggle/working/) that gets preserved as output when you create a version using \"Save & Run All\" \n",
    "# You can also write temporary files to /kaggle/temp/, but they won't be saved outside of the current session"
   ]
  },
  {
   "cell_type": "markdown",
   "id": "a5cec0ab",
   "metadata": {
    "papermill": {
     "duration": 0.006098,
     "end_time": "2024-07-25T03:30:57.875982",
     "exception": false,
     "start_time": "2024-07-25T03:30:57.869884",
     "status": "completed"
    },
    "tags": []
   },
   "source": [
    "# 🧩 Initialize Data"
   ]
  },
  {
   "cell_type": "code",
   "execution_count": 2,
   "id": "12cece5b",
   "metadata": {
    "execution": {
     "iopub.execute_input": "2024-07-25T03:30:57.891085Z",
     "iopub.status.busy": "2024-07-25T03:30:57.889854Z",
     "iopub.status.idle": "2024-07-25T03:30:57.934530Z",
     "shell.execute_reply": "2024-07-25T03:30:57.933419Z"
    },
    "papermill": {
     "duration": 0.054867,
     "end_time": "2024-07-25T03:30:57.937132",
     "exception": false,
     "start_time": "2024-07-25T03:30:57.882265",
     "status": "completed"
    },
    "tags": []
   },
   "outputs": [
    {
     "data": {
      "text/html": [
       "<div>\n",
       "<style scoped>\n",
       "    .dataframe tbody tr th:only-of-type {\n",
       "        vertical-align: middle;\n",
       "    }\n",
       "\n",
       "    .dataframe tbody tr th {\n",
       "        vertical-align: top;\n",
       "    }\n",
       "\n",
       "    .dataframe thead th {\n",
       "        text-align: right;\n",
       "    }\n",
       "</style>\n",
       "<table border=\"1\" class=\"dataframe\">\n",
       "  <thead>\n",
       "    <tr style=\"text-align: right;\">\n",
       "      <th></th>\n",
       "      <th>10_Digit_BBL</th>\n",
       "      <th>Street_Number</th>\n",
       "      <th>Street_Name</th>\n",
       "      <th>DOF_Gross_Square_Footage</th>\n",
       "      <th>Energy_Efficiency_Grade</th>\n",
       "      <th>Energy_Star_1-100_Score</th>\n",
       "    </tr>\n",
       "  </thead>\n",
       "  <tbody>\n",
       "    <tr>\n",
       "      <th>0</th>\n",
       "      <td>1007610020</td>\n",
       "      <td>325</td>\n",
       "      <td>WEST 37 STREET</td>\n",
       "      <td>48843</td>\n",
       "      <td>A</td>\n",
       "      <td>100</td>\n",
       "    </tr>\n",
       "    <tr>\n",
       "      <th>1</th>\n",
       "      <td>1007610022</td>\n",
       "      <td>313</td>\n",
       "      <td>WEST 37 STREET</td>\n",
       "      <td>82354</td>\n",
       "      <td>C</td>\n",
       "      <td>62</td>\n",
       "    </tr>\n",
       "    <tr>\n",
       "      <th>2</th>\n",
       "      <td>1007610028</td>\n",
       "      <td>307</td>\n",
       "      <td>WEST 37 STREET</td>\n",
       "      <td>102824</td>\n",
       "      <td>B</td>\n",
       "      <td>79</td>\n",
       "    </tr>\n",
       "    <tr>\n",
       "      <th>3</th>\n",
       "      <td>1007610033</td>\n",
       "      <td>545</td>\n",
       "      <td>8 AVENUE</td>\n",
       "      <td>166874</td>\n",
       "      <td>A</td>\n",
       "      <td>86</td>\n",
       "    </tr>\n",
       "    <tr>\n",
       "      <th>4</th>\n",
       "      <td>1007610037</td>\n",
       "      <td>555</td>\n",
       "      <td>8 AVENUE</td>\n",
       "      <td>162260</td>\n",
       "      <td>A</td>\n",
       "      <td>100</td>\n",
       "    </tr>\n",
       "  </tbody>\n",
       "</table>\n",
       "</div>"
      ],
      "text/plain": [
       "   10_Digit_BBL  Street_Number     Street_Name  DOF_Gross_Square_Footage  \\\n",
       "0    1007610020            325  WEST 37 STREET                     48843   \n",
       "1    1007610022            313  WEST 37 STREET                     82354   \n",
       "2    1007610028            307  WEST 37 STREET                    102824   \n",
       "3    1007610033            545        8 AVENUE                    166874   \n",
       "4    1007610037            555        8 AVENUE                    162260   \n",
       "\n",
       "  Energy_Efficiency_Grade  Energy_Star_1-100_Score  \n",
       "0                       A                      100  \n",
       "1                       C                       62  \n",
       "2                       B                       79  \n",
       "3                       A                       86  \n",
       "4                       A                      100  "
      ]
     },
     "execution_count": 2,
     "metadata": {},
     "output_type": "execute_result"
    }
   ],
   "source": [
    "energy_ratings = pd.read_csv(dir_files[1])\n",
    "energy_features = pd.read_csv(dir_files[0])\n",
    "energy_ratings.head()"
   ]
  },
  {
   "cell_type": "code",
   "execution_count": 3,
   "id": "0d005974",
   "metadata": {
    "execution": {
     "iopub.execute_input": "2024-07-25T03:30:57.951934Z",
     "iopub.status.busy": "2024-07-25T03:30:57.951562Z",
     "iopub.status.idle": "2024-07-25T03:30:57.964766Z",
     "shell.execute_reply": "2024-07-25T03:30:57.963700Z"
    },
    "papermill": {
     "duration": 0.022925,
     "end_time": "2024-07-25T03:30:57.966728",
     "exception": false,
     "start_time": "2024-07-25T03:30:57.943803",
     "status": "completed"
    },
    "tags": []
   },
   "outputs": [
    {
     "data": {
      "text/html": [
       "<div>\n",
       "<style scoped>\n",
       "    .dataframe tbody tr th:only-of-type {\n",
       "        vertical-align: middle;\n",
       "    }\n",
       "\n",
       "    .dataframe tbody tr th {\n",
       "        vertical-align: top;\n",
       "    }\n",
       "\n",
       "    .dataframe thead th {\n",
       "        text-align: right;\n",
       "    }\n",
       "</style>\n",
       "<table border=\"1\" class=\"dataframe\">\n",
       "  <thead>\n",
       "    <tr style=\"text-align: right;\">\n",
       "      <th></th>\n",
       "      <th>10_Digit_BBL</th>\n",
       "      <th>GeoBuilding</th>\n",
       "      <th>Latitude</th>\n",
       "      <th>Longitude</th>\n",
       "    </tr>\n",
       "  </thead>\n",
       "  <tbody>\n",
       "    <tr>\n",
       "      <th>0</th>\n",
       "      <td>3017620041</td>\n",
       "      <td>{\"type\":\"Feature\",\"geometry\":{\"type\":\"MultiPol...</td>\n",
       "      <td>-73.955008</td>\n",
       "      <td>40.692556</td>\n",
       "    </tr>\n",
       "    <tr>\n",
       "      <th>1</th>\n",
       "      <td>1007017501</td>\n",
       "      <td>NaN</td>\n",
       "      <td>NaN</td>\n",
       "      <td>NaN</td>\n",
       "    </tr>\n",
       "    <tr>\n",
       "      <th>2</th>\n",
       "      <td>3021077502</td>\n",
       "      <td>NaN</td>\n",
       "      <td>NaN</td>\n",
       "      <td>NaN</td>\n",
       "    </tr>\n",
       "    <tr>\n",
       "      <th>3</th>\n",
       "      <td>1000130001</td>\n",
       "      <td>{\"type\":\"Feature\",\"geometry\":{\"type\":\"MultiPol...</td>\n",
       "      <td>-74.014611</td>\n",
       "      <td>40.704959</td>\n",
       "    </tr>\n",
       "    <tr>\n",
       "      <th>4</th>\n",
       "      <td>1000130005</td>\n",
       "      <td>{\"type\":\"Feature\",\"geometry\":{\"type\":\"MultiPol...</td>\n",
       "      <td>-74.014242</td>\n",
       "      <td>40.705379</td>\n",
       "    </tr>\n",
       "  </tbody>\n",
       "</table>\n",
       "</div>"
      ],
      "text/plain": [
       "   10_Digit_BBL                                        GeoBuilding   Latitude  \\\n",
       "0    3017620041  {\"type\":\"Feature\",\"geometry\":{\"type\":\"MultiPol... -73.955008   \n",
       "1    1007017501                                                NaN        NaN   \n",
       "2    3021077502                                                NaN        NaN   \n",
       "3    1000130001  {\"type\":\"Feature\",\"geometry\":{\"type\":\"MultiPol... -74.014611   \n",
       "4    1000130005  {\"type\":\"Feature\",\"geometry\":{\"type\":\"MultiPol... -74.014242   \n",
       "\n",
       "   Longitude  \n",
       "0  40.692556  \n",
       "1        NaN  \n",
       "2        NaN  \n",
       "3  40.704959  \n",
       "4  40.705379  "
      ]
     },
     "execution_count": 3,
     "metadata": {},
     "output_type": "execute_result"
    }
   ],
   "source": [
    "energy_features.head()"
   ]
  },
  {
   "cell_type": "code",
   "execution_count": 4,
   "id": "07dcad6d",
   "metadata": {
    "execution": {
     "iopub.execute_input": "2024-07-25T03:30:57.982412Z",
     "iopub.status.busy": "2024-07-25T03:30:57.981429Z",
     "iopub.status.idle": "2024-07-25T03:30:57.987113Z",
     "shell.execute_reply": "2024-07-25T03:30:57.986059Z"
    },
    "papermill": {
     "duration": 0.015773,
     "end_time": "2024-07-25T03:30:57.989280",
     "exception": false,
     "start_time": "2024-07-25T03:30:57.973507",
     "status": "completed"
    },
    "tags": []
   },
   "outputs": [
    {
     "name": "stdout",
     "output_type": "stream",
     "text": [
      "(100, 6)\n",
      "(100, 4)\n"
     ]
    }
   ],
   "source": [
    "print(energy_ratings.shape)\n",
    "print(energy_features.shape)"
   ]
  },
  {
   "cell_type": "code",
   "execution_count": 5,
   "id": "2a2bd888",
   "metadata": {
    "execution": {
     "iopub.execute_input": "2024-07-25T03:30:58.004607Z",
     "iopub.status.busy": "2024-07-25T03:30:58.004264Z",
     "iopub.status.idle": "2024-07-25T03:30:58.014936Z",
     "shell.execute_reply": "2024-07-25T03:30:58.013846Z"
    },
    "papermill": {
     "duration": 0.020822,
     "end_time": "2024-07-25T03:30:58.017124",
     "exception": false,
     "start_time": "2024-07-25T03:30:57.996302",
     "status": "completed"
    },
    "tags": []
   },
   "outputs": [
    {
     "data": {
      "text/plain": [
       "10_Digit_BBL                0\n",
       "Street_Number               0\n",
       "Street_Name                 0\n",
       "DOF_Gross_Square_Footage    0\n",
       "Energy_Efficiency_Grade     0\n",
       "Energy_Star_1-100_Score     0\n",
       "dtype: int64"
      ]
     },
     "execution_count": 5,
     "metadata": {},
     "output_type": "execute_result"
    }
   ],
   "source": [
    "energy_ratings.isnull().sum()"
   ]
  },
  {
   "cell_type": "code",
   "execution_count": 6,
   "id": "fc1a0681",
   "metadata": {
    "execution": {
     "iopub.execute_input": "2024-07-25T03:30:58.033007Z",
     "iopub.status.busy": "2024-07-25T03:30:58.032086Z",
     "iopub.status.idle": "2024-07-25T03:30:58.040014Z",
     "shell.execute_reply": "2024-07-25T03:30:58.039069Z"
    },
    "papermill": {
     "duration": 0.018109,
     "end_time": "2024-07-25T03:30:58.042206",
     "exception": false,
     "start_time": "2024-07-25T03:30:58.024097",
     "status": "completed"
    },
    "tags": []
   },
   "outputs": [
    {
     "data": {
      "text/plain": [
       "10_Digit_BBL     0\n",
       "GeoBuilding     30\n",
       "Latitude        30\n",
       "Longitude       30\n",
       "dtype: int64"
      ]
     },
     "execution_count": 6,
     "metadata": {},
     "output_type": "execute_result"
    }
   ],
   "source": [
    "energy_features.isnull().sum()"
   ]
  },
  {
   "cell_type": "code",
   "execution_count": 7,
   "id": "1a71445c",
   "metadata": {
    "execution": {
     "iopub.execute_input": "2024-07-25T03:30:58.057976Z",
     "iopub.status.busy": "2024-07-25T03:30:58.057572Z",
     "iopub.status.idle": "2024-07-25T03:30:58.067778Z",
     "shell.execute_reply": "2024-07-25T03:30:58.066764Z"
    },
    "papermill": {
     "duration": 0.020861,
     "end_time": "2024-07-25T03:30:58.070188",
     "exception": false,
     "start_time": "2024-07-25T03:30:58.049327",
     "status": "completed"
    },
    "tags": []
   },
   "outputs": [
    {
     "data": {
      "text/plain": [
       "30"
      ]
     },
     "execution_count": 7,
     "metadata": {},
     "output_type": "execute_result"
    }
   ],
   "source": [
    "energy_ratings.Street_Name.nunique()"
   ]
  },
  {
   "cell_type": "code",
   "execution_count": 8,
   "id": "9df2c7df",
   "metadata": {
    "execution": {
     "iopub.execute_input": "2024-07-25T03:30:58.087220Z",
     "iopub.status.busy": "2024-07-25T03:30:58.086480Z",
     "iopub.status.idle": "2024-07-25T03:30:58.093475Z",
     "shell.execute_reply": "2024-07-25T03:30:58.092448Z"
    },
    "papermill": {
     "duration": 0.018017,
     "end_time": "2024-07-25T03:30:58.095889",
     "exception": false,
     "start_time": "2024-07-25T03:30:58.077872",
     "status": "completed"
    },
    "tags": []
   },
   "outputs": [
    {
     "data": {
      "text/plain": [
       "'{\"type\":\"Feature\",\"geometry\":{\"type\":\"MultiPolygon\",\"coordinates\":[[[[-73.95504023749127,40.69278179995346],[-73.95495903439809,40.692791454119636],[-73.95494577341542,40.69272628510418],[-73.95488058792331,40.6924059263604],[-73.9548679225718,40.69234367973127],[-73.9549255822969,40.692336824210116],[-73.95505455555698,40.69232149028675],[-73.95506732713439,40.692382606793025],[-73.955134654852,40.6927047789995],[-73.95514807165077,40.69276898000251],[-73.95504023749127,40.69278179995346]]]]},\"properties\":{\"name\":null,\"base_bbl\":\"3017620041\",\"shape_area\":\"0.0\",\"heightroof\":\"58.0\",\"mpluto_bbl\":\"3017627505\",\"cnstrct_yr\":\"2006\",\"lststatype\":\"Constructed\",\"feat_code\":\"2100\",\"groundelev\":\"40\",\"geomsource\":\"Other (Man\",\"bin\":\"3396747\",\"lstmoddate\":\"2017-08-10T00:00:00.000\",\"doitt_id\":\"1098751\",\"shape_len\":\"0.0\"}}'"
      ]
     },
     "execution_count": 8,
     "metadata": {},
     "output_type": "execute_result"
    }
   ],
   "source": [
    "energy_features[\"GeoBuilding\"][0]"
   ]
  },
  {
   "cell_type": "markdown",
   "id": "0077dd4a",
   "metadata": {
    "papermill": {
     "duration": 0.007775,
     "end_time": "2024-07-25T03:30:58.111143",
     "exception": false,
     "start_time": "2024-07-25T03:30:58.103368",
     "status": "completed"
    },
    "tags": []
   },
   "source": [
    "# 🧐 Exploratory Data Analysis"
   ]
  },
  {
   "cell_type": "code",
   "execution_count": 9,
   "id": "20ece6f3",
   "metadata": {
    "execution": {
     "iopub.execute_input": "2024-07-25T03:30:58.127384Z",
     "iopub.status.busy": "2024-07-25T03:30:58.126989Z",
     "iopub.status.idle": "2024-07-25T03:31:00.080670Z",
     "shell.execute_reply": "2024-07-25T03:31:00.079632Z"
    },
    "papermill": {
     "duration": 1.964938,
     "end_time": "2024-07-25T03:31:00.083350",
     "exception": false,
     "start_time": "2024-07-25T03:30:58.118412",
     "status": "completed"
    },
    "tags": []
   },
   "outputs": [],
   "source": [
    "import matplotlib.pyplot as plt\n",
    "import seaborn as sns\n",
    "import plotly.express as px"
   ]
  },
  {
   "cell_type": "code",
   "execution_count": 10,
   "id": "3fa6b27f",
   "metadata": {
    "execution": {
     "iopub.execute_input": "2024-07-25T03:31:00.099888Z",
     "iopub.status.busy": "2024-07-25T03:31:00.099505Z",
     "iopub.status.idle": "2024-07-25T03:31:00.106520Z",
     "shell.execute_reply": "2024-07-25T03:31:00.105251Z"
    },
    "papermill": {
     "duration": 0.017819,
     "end_time": "2024-07-25T03:31:00.108621",
     "exception": false,
     "start_time": "2024-07-25T03:31:00.090802",
     "status": "completed"
    },
    "tags": []
   },
   "outputs": [
    {
     "data": {
      "text/plain": [
       "Index(['10_Digit_BBL', 'Street_Number', 'Street_Name',\n",
       "       'DOF_Gross_Square_Footage', 'Energy_Efficiency_Grade',\n",
       "       'Energy_Star_1-100_Score'],\n",
       "      dtype='object')"
      ]
     },
     "execution_count": 10,
     "metadata": {},
     "output_type": "execute_result"
    }
   ],
   "source": [
    "energy_ratings.columns"
   ]
  },
  {
   "cell_type": "code",
   "execution_count": 11,
   "id": "4343862a",
   "metadata": {
    "execution": {
     "iopub.execute_input": "2024-07-25T03:31:00.125732Z",
     "iopub.status.busy": "2024-07-25T03:31:00.125350Z",
     "iopub.status.idle": "2024-07-25T03:31:00.366865Z",
     "shell.execute_reply": "2024-07-25T03:31:00.365706Z"
    },
    "papermill": {
     "duration": 0.252749,
     "end_time": "2024-07-25T03:31:00.369317",
     "exception": false,
     "start_time": "2024-07-25T03:31:00.116568",
     "status": "completed"
    },
    "tags": []
   },
   "outputs": [
    {
     "data": {
      "text/plain": [
       "<Axes: xlabel='Energy_Efficiency_Grade'>"
      ]
     },
     "execution_count": 11,
     "metadata": {},
     "output_type": "execute_result"
    },
    {
     "data": {
      "image/png": "[encoded data removed]",
      "text/plain": [
       "<Figure size 640x480 with 1 Axes>"
      ]
     },
     "metadata": {},
     "output_type": "display_data"
    }
   ],
   "source": [
    "energy_ratings.groupby([\"Energy_Efficiency_Grade\"])[\"DOF_Gross_Square_Footage\"].sum().plot(kind=\"bar\")"
   ]
  },
  {
   "cell_type": "markdown",
   "id": "095d8ef4",
   "metadata": {
    "papermill": {
     "duration": 0.007948,
     "end_time": "2024-07-25T03:31:00.385603",
     "exception": false,
     "start_time": "2024-07-25T03:31:00.377655",
     "status": "completed"
    },
    "tags": []
   },
   "source": [
    "1. In terms of total gross square footage, Grade B buildings ranks 1.\n",
    "2. Grade C ranks lowest.\n",
    "3. Grade A and B plays between 1.200k to 1.250k"
   ]
  },
  {
   "cell_type": "code",
   "execution_count": 12,
   "id": "d2766856",
   "metadata": {
    "execution": {
     "iopub.execute_input": "2024-07-25T03:31:00.403103Z",
     "iopub.status.busy": "2024-07-25T03:31:00.402697Z",
     "iopub.status.idle": "2024-07-25T03:31:00.430983Z",
     "shell.execute_reply": "2024-07-25T03:31:00.429825Z"
    },
    "papermill": {
     "duration": 0.03995,
     "end_time": "2024-07-25T03:31:00.433489",
     "exception": false,
     "start_time": "2024-07-25T03:31:00.393539",
     "status": "completed"
    },
    "tags": []
   },
   "outputs": [
    {
     "data": {
      "text/html": [
       "<div>\n",
       "<style scoped>\n",
       "    .dataframe tbody tr th:only-of-type {\n",
       "        vertical-align: middle;\n",
       "    }\n",
       "\n",
       "    .dataframe tbody tr th {\n",
       "        vertical-align: top;\n",
       "    }\n",
       "\n",
       "    .dataframe thead th {\n",
       "        text-align: right;\n",
       "    }\n",
       "</style>\n",
       "<table border=\"1\" class=\"dataframe\">\n",
       "  <thead>\n",
       "    <tr style=\"text-align: right;\">\n",
       "      <th></th>\n",
       "      <th>Energy_Star_1-100_Score</th>\n",
       "      <th>Energy_Efficiency_Grade</th>\n",
       "      <th>DOF_Gross_Square_Footage</th>\n",
       "    </tr>\n",
       "  </thead>\n",
       "  <tbody>\n",
       "    <tr>\n",
       "      <th>0</th>\n",
       "      <td>1</td>\n",
       "      <td>D</td>\n",
       "      <td>264668</td>\n",
       "    </tr>\n",
       "    <tr>\n",
       "      <th>1</th>\n",
       "      <td>3</td>\n",
       "      <td>D</td>\n",
       "      <td>91553</td>\n",
       "    </tr>\n",
       "    <tr>\n",
       "      <th>2</th>\n",
       "      <td>4</td>\n",
       "      <td>D</td>\n",
       "      <td>616831</td>\n",
       "    </tr>\n",
       "    <tr>\n",
       "      <th>3</th>\n",
       "      <td>11</td>\n",
       "      <td>D</td>\n",
       "      <td>283905</td>\n",
       "    </tr>\n",
       "    <tr>\n",
       "      <th>4</th>\n",
       "      <td>14</td>\n",
       "      <td>D</td>\n",
       "      <td>239121</td>\n",
       "    </tr>\n",
       "  </tbody>\n",
       "</table>\n",
       "</div>"
      ],
      "text/plain": [
       "   Energy_Star_1-100_Score Energy_Efficiency_Grade  DOF_Gross_Square_Footage\n",
       "0                        1                       D                    264668\n",
       "1                        3                       D                     91553\n",
       "2                        4                       D                    616831\n",
       "3                       11                       D                    283905\n",
       "4                       14                       D                    239121"
      ]
     },
     "execution_count": 12,
     "metadata": {},
     "output_type": "execute_result"
    },
    {
     "data": {
      "text/plain": [
       "<Figure size 1500x800 with 0 Axes>"
      ]
     },
     "metadata": {},
     "output_type": "display_data"
    }
   ],
   "source": [
    "plt.figure(figsize=(15,8))\n",
    "energy_group_sum = energy_ratings.groupby([\"Energy_Star_1-100_Score\", \"Energy_Efficiency_Grade\"])[\"DOF_Gross_Square_Footage\"].sum().reset_index()\n",
    "energy_group_sum.head()"
   ]
  },
  {
   "cell_type": "code",
   "execution_count": 13,
   "id": "4948a408",
   "metadata": {
    "execution": {
     "iopub.execute_input": "2024-07-25T03:31:00.453058Z",
     "iopub.status.busy": "2024-07-25T03:31:00.451935Z",
     "iopub.status.idle": "2024-07-25T03:31:00.844770Z",
     "shell.execute_reply": "2024-07-25T03:31:00.843737Z"
    },
    "papermill": {
     "duration": 0.404702,
     "end_time": "2024-07-25T03:31:00.847053",
     "exception": false,
     "start_time": "2024-07-25T03:31:00.442351",
     "status": "completed"
    },
    "tags": []
   },
   "outputs": [
    {
     "data": {
      "text/plain": [
       "<Axes: xlabel='Energy_Efficiency_Grade', ylabel='Energy_Star_1-100_Score'>"
      ]
     },
     "execution_count": 13,
     "metadata": {},
     "output_type": "execute_result"
    },
    {
     "data": {
      "image/png": "[encoded data removed]",
      "text/plain": [
       "<Figure size 640x480 with 2 Axes>"
      ]
     },
     "metadata": {},
     "output_type": "display_data"
    }
   ],
   "source": [
    "energy_rank_sum_matrix = energy_group_sum.pivot(\n",
    "    index=\"Energy_Efficiency_Grade\",\n",
    "    columns=\"Energy_Star_1-100_Score\",\n",
    "    values=\"DOF_Gross_Square_Footage\"\n",
    ").T\n",
    "\n",
    "sns.heatmap(energy_rank_sum_matrix)"
   ]
  },
  {
   "cell_type": "code",
   "execution_count": 14,
   "id": "554d48fd",
   "metadata": {
    "execution": {
     "iopub.execute_input": "2024-07-25T03:31:00.867166Z",
     "iopub.status.busy": "2024-07-25T03:31:00.866741Z",
     "iopub.status.idle": "2024-07-25T03:31:00.892236Z",
     "shell.execute_reply": "2024-07-25T03:31:00.891227Z"
    },
    "papermill": {
     "duration": 0.037922,
     "end_time": "2024-07-25T03:31:00.894369",
     "exception": false,
     "start_time": "2024-07-25T03:31:00.856447",
     "status": "completed"
    },
    "tags": []
   },
   "outputs": [
    {
     "data": {
      "text/html": [
       "<div>\n",
       "<style scoped>\n",
       "    .dataframe tbody tr th:only-of-type {\n",
       "        vertical-align: middle;\n",
       "    }\n",
       "\n",
       "    .dataframe tbody tr th {\n",
       "        vertical-align: top;\n",
       "    }\n",
       "\n",
       "    .dataframe thead th {\n",
       "        text-align: right;\n",
       "    }\n",
       "</style>\n",
       "<table border=\"1\" class=\"dataframe\">\n",
       "  <thead>\n",
       "    <tr style=\"text-align: right;\">\n",
       "      <th></th>\n",
       "      <th>Energy_Star_1-100_Score</th>\n",
       "      <th>Energy_Efficiency_Grade</th>\n",
       "      <th>DOF_Gross_Square_Footage</th>\n",
       "    </tr>\n",
       "  </thead>\n",
       "  <tbody>\n",
       "    <tr>\n",
       "      <th>0</th>\n",
       "      <td>1</td>\n",
       "      <td>D</td>\n",
       "      <td>132334.0</td>\n",
       "    </tr>\n",
       "    <tr>\n",
       "      <th>1</th>\n",
       "      <td>3</td>\n",
       "      <td>D</td>\n",
       "      <td>91553.0</td>\n",
       "    </tr>\n",
       "    <tr>\n",
       "      <th>2</th>\n",
       "      <td>4</td>\n",
       "      <td>D</td>\n",
       "      <td>308415.5</td>\n",
       "    </tr>\n",
       "    <tr>\n",
       "      <th>3</th>\n",
       "      <td>11</td>\n",
       "      <td>D</td>\n",
       "      <td>283905.0</td>\n",
       "    </tr>\n",
       "    <tr>\n",
       "      <th>4</th>\n",
       "      <td>14</td>\n",
       "      <td>D</td>\n",
       "      <td>239121.0</td>\n",
       "    </tr>\n",
       "  </tbody>\n",
       "</table>\n",
       "</div>"
      ],
      "text/plain": [
       "   Energy_Star_1-100_Score Energy_Efficiency_Grade  DOF_Gross_Square_Footage\n",
       "0                        1                       D                  132334.0\n",
       "1                        3                       D                   91553.0\n",
       "2                        4                       D                  308415.5\n",
       "3                       11                       D                  283905.0\n",
       "4                       14                       D                  239121.0"
      ]
     },
     "execution_count": 14,
     "metadata": {},
     "output_type": "execute_result"
    },
    {
     "data": {
      "text/plain": [
       "<Figure size 1500x800 with 0 Axes>"
      ]
     },
     "metadata": {},
     "output_type": "display_data"
    }
   ],
   "source": [
    "plt.figure(figsize=(15,8))\n",
    "energy_group_avg = energy_ratings.groupby([\"Energy_Star_1-100_Score\", \"Energy_Efficiency_Grade\"])[\"DOF_Gross_Square_Footage\"].mean().reset_index()\n",
    "energy_group_avg.head()"
   ]
  },
  {
   "cell_type": "code",
   "execution_count": 15,
   "id": "090fe397",
   "metadata": {
    "execution": {
     "iopub.execute_input": "2024-07-25T03:31:00.915037Z",
     "iopub.status.busy": "2024-07-25T03:31:00.914250Z",
     "iopub.status.idle": "2024-07-25T03:31:01.329830Z",
     "shell.execute_reply": "2024-07-25T03:31:01.328669Z"
    },
    "papermill": {
     "duration": 0.428393,
     "end_time": "2024-07-25T03:31:01.332159",
     "exception": false,
     "start_time": "2024-07-25T03:31:00.903766",
     "status": "completed"
    },
    "tags": []
   },
   "outputs": [
    {
     "data": {
      "text/plain": [
       "<Axes: xlabel='Energy_Efficiency_Grade', ylabel='Energy_Star_1-100_Score'>"
      ]
     },
     "execution_count": 15,
     "metadata": {},
     "output_type": "execute_result"
    },
    {
     "data": {
      "image/png": "[encoded data removed]",
      "text/plain": [
       "<Figure size 640x480 with 2 Axes>"
      ]
     },
     "metadata": {},
     "output_type": "display_data"
    }
   ],
   "source": [
    "energy_rank_avg_matrix = energy_group_avg.pivot(\n",
    "    index=\"Energy_Efficiency_Grade\",\n",
    "    columns=\"Energy_Star_1-100_Score\",\n",
    "    values=\"DOF_Gross_Square_Footage\"\n",
    ").T\n",
    "\n",
    "sns.heatmap(energy_rank_avg_matrix)"
   ]
  },
  {
   "cell_type": "code",
   "execution_count": 16,
   "id": "03a3f4fc",
   "metadata": {
    "execution": {
     "iopub.execute_input": "2024-07-25T03:31:01.354442Z",
     "iopub.status.busy": "2024-07-25T03:31:01.353349Z",
     "iopub.status.idle": "2024-07-25T03:31:01.360578Z",
     "shell.execute_reply": "2024-07-25T03:31:01.359548Z"
    },
    "papermill": {
     "duration": 0.020402,
     "end_time": "2024-07-25T03:31:01.362649",
     "exception": false,
     "start_time": "2024-07-25T03:31:01.342247",
     "status": "completed"
    },
    "tags": []
   },
   "outputs": [
    {
     "data": {
      "text/plain": [
       "Index(['10_Digit_BBL', 'Street_Number', 'Street_Name',\n",
       "       'DOF_Gross_Square_Footage', 'Energy_Efficiency_Grade',\n",
       "       'Energy_Star_1-100_Score'],\n",
       "      dtype='object')"
      ]
     },
     "execution_count": 16,
     "metadata": {},
     "output_type": "execute_result"
    }
   ],
   "source": [
    "energy_ratings.columns"
   ]
  },
  {
   "cell_type": "code",
   "execution_count": 17,
   "id": "4d954ec6",
   "metadata": {
    "execution": {
     "iopub.execute_input": "2024-07-25T03:31:01.385457Z",
     "iopub.status.busy": "2024-07-25T03:31:01.384524Z",
     "iopub.status.idle": "2024-07-25T03:31:03.297006Z",
     "shell.execute_reply": "2024-07-25T03:31:03.296103Z"
    },
    "papermill": {
     "duration": 1.926733,
     "end_time": "2024-07-25T03:31:03.299426",
     "exception": false,
     "start_time": "2024-07-25T03:31:01.372693",
     "status": "completed"
    },
    "tags": []
   },
   "outputs": [
    {
     "data": {
      "text/html": [
       "        <script type=\"text/javascript\">\n",
       "        window.PlotlyConfig = {MathJaxConfig: 'local'};\n",
       "        if (window.MathJax && window.MathJax.Hub && window.MathJax.Hub.Config) {window.MathJax.Hub.Config({SVG: {font: \"STIX-Web\"}});}\n",
       "        if (typeof require !== 'undefined') {\n",
       "        require.undef(\"plotly\");\n",
       "        requirejs.config({\n",
       "            paths: {\n",
       "                'plotly': ['https://cdn.plot.ly/plotly-2.27.0.min']\n",
       "            }\n",
       "        });\n",
       "        require(['plotly'], function(Plotly) {\n",
       "            window._Plotly = Plotly;\n",
       "        });\n",
       "        }\n",
       "        </script>\n",
       "        "
      ]
     },
     "metadata": {},
     "output_type": "display_data"
    },
    {
     "data": {
      "text/html": [
       "<div>                            <div id=\"dc28ea16-81a5-494f-96e2-ebd08a24e47e\" class=\"plotly-graph-div\" style=\"height:525px; width:100%;\"></div>            <script type=\"text/javascript\">                require([\"plotly\"], function(Plotly) {                    window.PLOTLYENV=window.PLOTLYENV || {};                                    if (document.getElementById(\"dc28ea16-81a5-494f-96e2-ebd08a24e47e\")) {                    Plotly.newPlot(                        \"dc28ea16-81a5-494f-96e2-ebd08a24e47e\",                        [{\"alignmentgroup\":\"True\",\"hovertemplate\":\"Energy_Efficiency_Grade=%{x}\\u003cbr\\u003eDOF_Gross_Square_Footage=%{y}\\u003cextra\\u003e\\u003c\\u002fextra\\u003e\",\"legendgroup\":\"\",\"marker\":{\"color\":\"#636efa\"},\"name\":\"\",\"notched\":false,\"offsetgroup\":\"\",\"orientation\":\"v\",\"showlegend\":false,\"x\":[\"A\",\"C\",\"B\",\"A\",\"A\",\"D\",\"A\",\"A\",\"B\",\"A\",\"A\",\"A\",\"D\",\"D\",\"B\",\"B\",\"C\",\"B\",\"B\",\"A\",\"B\",\"A\",\"A\",\"C\",\"D\",\"B\",\"B\",\"B\",\"B\",\"B\",\"A\",\"B\",\"A\",\"D\",\"D\",\"D\",\"B\",\"D\",\"B\",\"B\",\"B\",\"D\",\"C\",\"B\",\"B\",\"A\",\"D\",\"D\",\"D\",\"C\",\"D\",\"D\",\"D\",\"B\",\"B\",\"B\",\"A\",\"A\",\"B\",\"A\",\"D\",\"B\",\"A\",\"B\",\"A\",\"C\",\"A\",\"B\",\"D\",\"C\",\"D\",\"A\",\"B\",\"D\",\"D\",\"C\",\"D\",\"D\",\"A\",\"D\",\"D\",\"B\",\"D\",\"B\",\"B\",\"D\",\"D\",\"A\",\"D\",\"D\",\"B\",\"D\",\"D\",\"D\",\"B\",\"C\",\"B\",\"C\",\"B\",\"D\"],\"x0\":\" \",\"xaxis\":\"x\",\"y\":[48843,82354,102824,166874,162260,718503,180064,95402,35219,110188,1016406,1354691,102407,169061,692431,544015,896956,365792,336025,321994,361710,180646,434220,809401,335746,1402831,259076,239165,230765,1881621,1501878,2267925,2084079,356786,283905,239185,357000,244617,502000,220821,150855,106052,91774,129176,562340,287819,531665,508458,425407,335784,360656,427177,366993,447452,368315,309381,650740,335184,303086,860889,143000,389927,300676,345540,466820,974958,370000,205940,319910,406025,91553,239071,530168,433463,493187,944252,400531,305271,786942,239121,292466,95325,108373,1007569,105000,661283,25483,806170,487404,683289,3678000,541568,473460,106598,973587,34613,1079361,463664,664990,1104184],\"y0\":\" \",\"yaxis\":\"y\",\"type\":\"box\"}],                        {\"template\":{\"data\":{\"barpolar\":[{\"marker\":{\"line\":{\"color\":\"white\",\"width\":0.5},\"pattern\":{\"fillmode\":\"overlay\",\"size\":10,\"solidity\":0.2}},\"type\":\"barpolar\"}],\"bar\":[{\"error_x\":{\"color\":\"#2a3f5f\"},\"error_y\":{\"color\":\"#2a3f5f\"},\"marker\":{\"line\":{\"color\":\"white\",\"width\":0.5},\"pattern\":{\"fillmode\":\"overlay\",\"size\":10,\"solidity\":0.2}},\"type\":\"bar\"}],\"carpet\":[{\"aaxis\":{\"endlinecolor\":\"#2a3f5f\",\"gridcolor\":\"#C8D4E3\",\"linecolor\":\"#C8D4E3\",\"minorgridcolor\":\"#C8D4E3\",\"startlinecolor\":\"#2a3f5f\"},\"baxis\":{\"endlinecolor\":\"#2a3f5f\",\"gridcolor\":\"#C8D4E3\",\"linecolor\":\"#C8D4E3\",\"minorgridcolor\":\"#C8D4E3\",\"startlinecolor\":\"#2a3f5f\"},\"type\":\"carpet\"}],\"choropleth\":[{\"colorbar\":{\"outlinewidth\":0,\"ticks\":\"\"},\"type\":\"choropleth\"}],\"contourcarpet\":[{\"colorbar\":{\"outlinewidth\":0,\"ticks\":\"\"},\"type\":\"contourcarpet\"}],\"contour\":[{\"colorbar\":{\"outlinewidth\":0,\"ticks\":\"\"},\"colorscale\":[[0.0,\"#0d0887\"],[0.1111111111111111,\"#46039f\"],[0.2222222222222222,\"#7201a8\"],[0.3333333333333333,\"#9c179e\"],[0.4444444444444444,\"#bd3786\"],[0.5555555555555556,\"#d8576b\"],[0.6666666666666666,\"#ed7953\"],[0.7777777777777778,\"#fb9f3a\"],[0.8888888888888888,\"#fdca26\"],[1.0,\"#f0f921\"]],\"type\":\"contour\"}],\"heatmapgl\":[{\"colorbar\":{\"outlinewidth\":0,\"ticks\":\"\"},\"colorscale\":[[0.0,\"#0d0887\"],[0.1111111111111111,\"#46039f\"],[0.2222222222222222,\"#7201a8\"],[0.3333333333333333,\"#9c179e\"],[0.4444444444444444,\"#bd3786\"],[0.5555555555555556,\"#d8576b\"],[0.6666666666666666,\"#ed7953\"],[0.7777777777777778,\"#fb9f3a\"],[0.8888888888888888,\"#fdca26\"],[1.0,\"#f0f921\"]],\"type\":\"heatmapgl\"}],\"heatmap\":[{\"colorbar\":{\"outlinewidth\":0,\"ticks\":\"\"},\"colorscale\":[[0.0,\"#0d0887\"],[0.1111111111111111,\"#46039f\"],[0.2222222222222222,\"#7201a8\"],[0.3333333333333333,\"#9c179e\"],[0.4444444444444444,\"#bd3786\"],[0.5555555555555556,\"#d8576b\"],[0.6666666666666666,\"#ed7953\"],[0.7777777777777778,\"#fb9f3a\"],[0.8888888888888888,\"#fdca26\"],[1.0,\"#f0f921\"]],\"type\":\"heatmap\"}],\"histogram2dcontour\":[{\"colorbar\":{\"outlinewidth\":0,\"ticks\":\"\"},\"colorscale\":[[0.0,\"#0d0887\"],[0.1111111111111111,\"#46039f\"],[0.2222222222222222,\"#7201a8\"],[0.3333333333333333,\"#9c179e\"],[0.4444444444444444,\"#bd3786\"],[0.5555555555555556,\"#d8576b\"],[0.6666666666666666,\"#ed7953\"],[0.7777777777777778,\"#fb9f3a\"],[0.8888888888888888,\"#fdca26\"],[1.0,\"#f0f921\"]],\"type\":\"histogram2dcontour\"}],\"histogram2d\":[{\"colorbar\":{\"outlinewidth\":0,\"ticks\":\"\"},\"colorscale\":[[0.0,\"#0d0887\"],[0.1111111111111111,\"#46039f\"],[0.2222222222222222,\"#7201a8\"],[0.3333333333333333,\"#9c179e\"],[0.4444444444444444,\"#bd3786\"],[0.5555555555555556,\"#d8576b\"],[0.6666666666666666,\"#ed7953\"],[0.7777777777777778,\"#fb9f3a\"],[0.8888888888888888,\"#fdca26\"],[1.0,\"#f0f921\"]],\"type\":\"histogram2d\"}],\"histogram\":[{\"marker\":{\"pattern\":{\"fillmode\":\"overlay\",\"size\":10,\"solidity\":0.2}},\"type\":\"histogram\"}],\"mesh3d\":[{\"colorbar\":{\"outlinewidth\":0,\"ticks\":\"\"},\"type\":\"mesh3d\"}],\"parcoords\":[{\"line\":{\"colorbar\":{\"outlinewidth\":0,\"ticks\":\"\"}},\"type\":\"parcoords\"}],\"pie\":[{\"automargin\":true,\"type\":\"pie\"}],\"scatter3d\":[{\"line\":{\"colorbar\":{\"outlinewidth\":0,\"ticks\":\"\"}},\"marker\":{\"colorbar\":{\"outlinewidth\":0,\"ticks\":\"\"}},\"type\":\"scatter3d\"}],\"scattercarpet\":[{\"marker\":{\"colorbar\":{\"outlinewidth\":0,\"ticks\":\"\"}},\"type\":\"scattercarpet\"}],\"scattergeo\":[{\"marker\":{\"colorbar\":{\"outlinewidth\":0,\"ticks\":\"\"}},\"type\":\"scattergeo\"}],\"scattergl\":[{\"marker\":{\"colorbar\":{\"outlinewidth\":0,\"ticks\":\"\"}},\"type\":\"scattergl\"}],\"scattermapbox\":[{\"marker\":{\"colorbar\":{\"outlinewidth\":0,\"ticks\":\"\"}},\"type\":\"scattermapbox\"}],\"scatterpolargl\":[{\"marker\":{\"colorbar\":{\"outlinewidth\":0,\"ticks\":\"\"}},\"type\":\"scatterpolargl\"}],\"scatterpolar\":[{\"marker\":{\"colorbar\":{\"outlinewidth\":0,\"ticks\":\"\"}},\"type\":\"scatterpolar\"}],\"scatter\":[{\"fillpattern\":{\"fillmode\":\"overlay\",\"size\":10,\"solidity\":0.2},\"type\":\"scatter\"}],\"scatterternary\":[{\"marker\":{\"colorbar\":{\"outlinewidth\":0,\"ticks\":\"\"}},\"type\":\"scatterternary\"}],\"surface\":[{\"colorbar\":{\"outlinewidth\":0,\"ticks\":\"\"},\"colorscale\":[[0.0,\"#0d0887\"],[0.1111111111111111,\"#46039f\"],[0.2222222222222222,\"#7201a8\"],[0.3333333333333333,\"#9c179e\"],[0.4444444444444444,\"#bd3786\"],[0.5555555555555556,\"#d8576b\"],[0.6666666666666666,\"#ed7953\"],[0.7777777777777778,\"#fb9f3a\"],[0.8888888888888888,\"#fdca26\"],[1.0,\"#f0f921\"]],\"type\":\"surface\"}],\"table\":[{\"cells\":{\"fill\":{\"color\":\"#EBF0F8\"},\"line\":{\"color\":\"white\"}},\"header\":{\"fill\":{\"color\":\"#C8D4E3\"},\"line\":{\"color\":\"white\"}},\"type\":\"table\"}]},\"layout\":{\"annotationdefaults\":{\"arrowcolor\":\"#2a3f5f\",\"arrowhead\":0,\"arrowwidth\":1},\"autotypenumbers\":\"strict\",\"coloraxis\":{\"colorbar\":{\"outlinewidth\":0,\"ticks\":\"\"}},\"colorscale\":{\"diverging\":[[0,\"#8e0152\"],[0.1,\"#c51b7d\"],[0.2,\"#de77ae\"],[0.3,\"#f1b6da\"],[0.4,\"#fde0ef\"],[0.5,\"#f7f7f7\"],[0.6,\"#e6f5d0\"],[0.7,\"#b8e186\"],[0.8,\"#7fbc41\"],[0.9,\"#4d9221\"],[1,\"#276419\"]],\"sequential\":[[0.0,\"#0d0887\"],[0.1111111111111111,\"#46039f\"],[0.2222222222222222,\"#7201a8\"],[0.3333333333333333,\"#9c179e\"],[0.4444444444444444,\"#bd3786\"],[0.5555555555555556,\"#d8576b\"],[0.6666666666666666,\"#ed7953\"],[0.7777777777777778,\"#fb9f3a\"],[0.8888888888888888,\"#fdca26\"],[1.0,\"#f0f921\"]],\"sequentialminus\":[[0.0,\"#0d0887\"],[0.1111111111111111,\"#46039f\"],[0.2222222222222222,\"#7201a8\"],[0.3333333333333333,\"#9c179e\"],[0.4444444444444444,\"#bd3786\"],[0.5555555555555556,\"#d8576b\"],[0.6666666666666666,\"#ed7953\"],[0.7777777777777778,\"#fb9f3a\"],[0.8888888888888888,\"#fdca26\"],[1.0,\"#f0f921\"]]},\"colorway\":[\"#636efa\",\"#EF553B\",\"#00cc96\",\"#ab63fa\",\"#FFA15A\",\"#19d3f3\",\"#FF6692\",\"#B6E880\",\"#FF97FF\",\"#FECB52\"],\"font\":{\"color\":\"#2a3f5f\"},\"geo\":{\"bgcolor\":\"white\",\"lakecolor\":\"white\",\"landcolor\":\"white\",\"showlakes\":true,\"showland\":true,\"subunitcolor\":\"#C8D4E3\"},\"hoverlabel\":{\"align\":\"left\"},\"hovermode\":\"closest\",\"mapbox\":{\"style\":\"light\"},\"paper_bgcolor\":\"white\",\"plot_bgcolor\":\"white\",\"polar\":{\"angularaxis\":{\"gridcolor\":\"#EBF0F8\",\"linecolor\":\"#EBF0F8\",\"ticks\":\"\"},\"bgcolor\":\"white\",\"radialaxis\":{\"gridcolor\":\"#EBF0F8\",\"linecolor\":\"#EBF0F8\",\"ticks\":\"\"}},\"scene\":{\"xaxis\":{\"backgroundcolor\":\"white\",\"gridcolor\":\"#DFE8F3\",\"gridwidth\":2,\"linecolor\":\"#EBF0F8\",\"showbackground\":true,\"ticks\":\"\",\"zerolinecolor\":\"#EBF0F8\"},\"yaxis\":{\"backgroundcolor\":\"white\",\"gridcolor\":\"#DFE8F3\",\"gridwidth\":2,\"linecolor\":\"#EBF0F8\",\"showbackground\":true,\"ticks\":\"\",\"zerolinecolor\":\"#EBF0F8\"},\"zaxis\":{\"backgroundcolor\":\"white\",\"gridcolor\":\"#DFE8F3\",\"gridwidth\":2,\"linecolor\":\"#EBF0F8\",\"showbackground\":true,\"ticks\":\"\",\"zerolinecolor\":\"#EBF0F8\"}},\"shapedefaults\":{\"line\":{\"color\":\"#2a3f5f\"}},\"ternary\":{\"aaxis\":{\"gridcolor\":\"#DFE8F3\",\"linecolor\":\"#A2B1C6\",\"ticks\":\"\"},\"baxis\":{\"gridcolor\":\"#DFE8F3\",\"linecolor\":\"#A2B1C6\",\"ticks\":\"\"},\"bgcolor\":\"white\",\"caxis\":{\"gridcolor\":\"#DFE8F3\",\"linecolor\":\"#A2B1C6\",\"ticks\":\"\"}},\"title\":{\"x\":0.05},\"xaxis\":{\"automargin\":true,\"gridcolor\":\"#EBF0F8\",\"linecolor\":\"#EBF0F8\",\"ticks\":\"\",\"title\":{\"standoff\":15},\"zerolinecolor\":\"#EBF0F8\",\"zerolinewidth\":2},\"yaxis\":{\"automargin\":true,\"gridcolor\":\"#EBF0F8\",\"linecolor\":\"#EBF0F8\",\"ticks\":\"\",\"title\":{\"standoff\":15},\"zerolinecolor\":\"#EBF0F8\",\"zerolinewidth\":2}}},\"xaxis\":{\"anchor\":\"y\",\"domain\":[0.0,1.0],\"title\":{\"text\":\"Energy_Efficiency_Grade\"}},\"yaxis\":{\"anchor\":\"x\",\"domain\":[0.0,1.0],\"title\":{\"text\":\"DOF_Gross_Square_Footage\"}},\"legend\":{\"tracegroupgap\":0},\"margin\":{\"t\":60},\"boxmode\":\"group\",\"title\":{\"text\":\"Distribution DOF-GSF per Energy Efficiency Grade\"}},                        {\"responsive\": true}                    ).then(function(){\n",
       "                            \n",
       "var gd = document.getElementById('dc28ea16-81a5-494f-96e2-ebd08a24e47e');\n",
       "var x = new MutationObserver(function (mutations, observer) {{\n",
       "        var display = window.getComputedStyle(gd).display;\n",
       "        if (!display || display === 'none') {{\n",
       "            console.log([gd, 'removed!']);\n",
       "            Plotly.purge(gd);\n",
       "            observer.disconnect();\n",
       "        }}\n",
       "}});\n",
       "\n",
       "// Listen for the removal of the full notebook cells\n",
       "var notebookContainer = gd.closest('#notebook-container');\n",
       "if (notebookContainer) {{\n",
       "    x.observe(notebookContainer, {childList: true});\n",
       "}}\n",
       "\n",
       "// Listen for the clearing of the current output cell\n",
       "var outputEl = gd.closest('.output');\n",
       "if (outputEl) {{\n",
       "    x.observe(outputEl, {childList: true});\n",
       "}}\n",
       "\n",
       "                        })                };                });            </script>        </div>"
      ]
     },
     "metadata": {},
     "output_type": "display_data"
    }
   ],
   "source": [
    "fig = px.box(energy_ratings,\n",
    "            x=\"Energy_Efficiency_Grade\",\n",
    "            y=\"DOF_Gross_Square_Footage\")\n",
    "fig.update_layout(template=\"plotly_white\",\n",
    "                 yaxis_title=\"DOF_Gross_Square_Footage\",\n",
    "                 title=\"Distribution DOF-GSF per Energy Efficiency Grade\")\n",
    "fig.show()"
   ]
  },
  {
   "cell_type": "code",
   "execution_count": 18,
   "id": "3357e59b",
   "metadata": {
    "execution": {
     "iopub.execute_input": "2024-07-25T03:31:03.322330Z",
     "iopub.status.busy": "2024-07-25T03:31:03.321926Z",
     "iopub.status.idle": "2024-07-25T03:31:03.339123Z",
     "shell.execute_reply": "2024-07-25T03:31:03.338095Z"
    },
    "papermill": {
     "duration": 0.031284,
     "end_time": "2024-07-25T03:31:03.341330",
     "exception": false,
     "start_time": "2024-07-25T03:31:03.310046",
     "status": "completed"
    },
    "tags": []
   },
   "outputs": [
    {
     "data": {
      "text/html": [
       "<div>\n",
       "<style scoped>\n",
       "    .dataframe tbody tr th:only-of-type {\n",
       "        vertical-align: middle;\n",
       "    }\n",
       "\n",
       "    .dataframe tbody tr th {\n",
       "        vertical-align: top;\n",
       "    }\n",
       "\n",
       "    .dataframe thead th {\n",
       "        text-align: right;\n",
       "    }\n",
       "</style>\n",
       "<table border=\"1\" class=\"dataframe\">\n",
       "  <thead>\n",
       "    <tr style=\"text-align: right;\">\n",
       "      <th></th>\n",
       "      <th>grade</th>\n",
       "      <th>std_dev</th>\n",
       "      <th>variance</th>\n",
       "    </tr>\n",
       "  </thead>\n",
       "  <tbody>\n",
       "    <tr>\n",
       "      <th>0</th>\n",
       "      <td>A</td>\n",
       "      <td>520167.947521</td>\n",
       "      <td>2.705747e+11</td>\n",
       "    </tr>\n",
       "    <tr>\n",
       "      <th>1</th>\n",
       "      <td>B</td>\n",
       "      <td>735753.784419</td>\n",
       "      <td>5.413336e+11</td>\n",
       "    </tr>\n",
       "    <tr>\n",
       "      <th>2</th>\n",
       "      <td>C</td>\n",
       "      <td>375776.225010</td>\n",
       "      <td>1.412078e+11</td>\n",
       "    </tr>\n",
       "    <tr>\n",
       "      <th>3</th>\n",
       "      <td>D</td>\n",
       "      <td>224129.091403</td>\n",
       "      <td>5.023385e+10</td>\n",
       "    </tr>\n",
       "  </tbody>\n",
       "</table>\n",
       "</div>"
      ],
      "text/plain": [
       "  grade        std_dev      variance\n",
       "0     A  520167.947521  2.705747e+11\n",
       "1     B  735753.784419  5.413336e+11\n",
       "2     C  375776.225010  1.412078e+11\n",
       "3     D  224129.091403  5.023385e+10"
      ]
     },
     "execution_count": 18,
     "metadata": {},
     "output_type": "execute_result"
    }
   ],
   "source": [
    "def calculate_std_var(df, grade, feature):\n",
    "    footage_filter = df[df[feature]==grade]\n",
    "    std = footage_filter[\"DOF_Gross_Square_Footage\"].std()\n",
    "    var = footage_filter[\"DOF_Gross_Square_Footage\"].var()\n",
    "    return std, var\n",
    "\n",
    "grades = [\"A\", \"B\", \"C\", \"D\"]\n",
    "metrics_ = []\n",
    "for grade in grades:\n",
    "    metrics = calculate_std_var(energy_ratings, grade, \"Energy_Efficiency_Grade\")\n",
    "    metrics_dict = {\"grade\": grade, \"std_dev\": metrics[0], \"variance\": metrics[1]}\n",
    "    metrics_.append(metrics_dict)\n",
    "metrics_df = pd.DataFrame(metrics_)\n",
    "metrics_df"
   ]
  },
  {
   "cell_type": "markdown",
   "id": "5e6b3600",
   "metadata": {
    "papermill": {
     "duration": 0.010299,
     "end_time": "2024-07-25T03:31:03.362214",
     "exception": false,
     "start_time": "2024-07-25T03:31:03.351915",
     "status": "completed"
    },
    "tags": []
   },
   "source": [
    "1. Buildings with Grade A have a `moderate range` of sizes with considerable variability in gross square footage.\n",
    "2. Buildings with Grade B show the `highest variability` in sizes, indicating a diverse range of building sizes.\n",
    "3. Buildings with Grade C have `less variability` in sizes compared to Grade A and B, but still a moderate range of sizes.\n",
    "4. Buildings with Grade D have the `least variability` in sizes, indicating that these buildings are more uniform in gross square footage.\n"
   ]
  },
  {
   "cell_type": "code",
   "execution_count": 19,
   "id": "80eccf6f",
   "metadata": {
    "execution": {
     "iopub.execute_input": "2024-07-25T03:31:03.389501Z",
     "iopub.status.busy": "2024-07-25T03:31:03.388663Z",
     "iopub.status.idle": "2024-07-25T03:31:03.419873Z",
     "shell.execute_reply": "2024-07-25T03:31:03.418682Z"
    },
    "papermill": {
     "duration": 0.048668,
     "end_time": "2024-07-25T03:31:03.422866",
     "exception": false,
     "start_time": "2024-07-25T03:31:03.374198",
     "status": "completed"
    },
    "tags": []
   },
   "outputs": [],
   "source": [
    "street_name_list = sorted(energy_ratings[\"Street_Name\"].unique())\n",
    "metrics_ = []\n",
    "for streets in street_name_list:\n",
    "    metrics = calculate_std_var(energy_ratings, streets, \"Street_Name\")\n",
    "    metrics_dict = {\"Street_Name\": streets, \"std_dev\": metrics[0], \"variance\": metrics[1]}\n",
    "    metrics_.append(metrics_dict)\n",
    "metrics_df = pd.DataFrame(metrics_)"
   ]
  },
  {
   "cell_type": "code",
   "execution_count": 20,
   "id": "68b67509",
   "metadata": {
    "execution": {
     "iopub.execute_input": "2024-07-25T03:31:03.452844Z",
     "iopub.status.busy": "2024-07-25T03:31:03.452463Z",
     "iopub.status.idle": "2024-07-25T03:31:04.000915Z",
     "shell.execute_reply": "2024-07-25T03:31:03.999822Z"
    },
    "papermill": {
     "duration": 0.563096,
     "end_time": "2024-07-25T03:31:04.003598",
     "exception": false,
     "start_time": "2024-07-25T03:31:03.440502",
     "status": "completed"
    },
    "tags": []
   },
   "outputs": [
    {
     "data": {
      "text/plain": [
       "Text(0.5, 1.0, 'Std. Deviation (Gross Square Footage) per Street')"
      ]
     },
     "execution_count": 20,
     "metadata": {},
     "output_type": "execute_result"
    },
    {
     "data": {
      "image/png": "[encoded data removed]",
      "text/plain": [
       "<Figure size 640x480 with 1 Axes>"
      ]
     },
     "metadata": {},
     "output_type": "display_data"
    }
   ],
   "source": [
    "metrics_df.sort_values(by=\"std_dev\").set_index(\"Street_Name\")[\"std_dev\"].plot(kind=\"bar\")\n",
    "plt.title(\"Std. Deviation (Gross Square Footage) per Street\")"
   ]
  },
  {
   "cell_type": "code",
   "execution_count": 21,
   "id": "f3f4fd7b",
   "metadata": {
    "execution": {
     "iopub.execute_input": "2024-07-25T03:31:04.030110Z",
     "iopub.status.busy": "2024-07-25T03:31:04.029693Z",
     "iopub.status.idle": "2024-07-25T03:31:04.555677Z",
     "shell.execute_reply": "2024-07-25T03:31:04.554577Z"
    },
    "papermill": {
     "duration": 0.542057,
     "end_time": "2024-07-25T03:31:04.558277",
     "exception": false,
     "start_time": "2024-07-25T03:31:04.016220",
     "status": "completed"
    },
    "tags": []
   },
   "outputs": [
    {
     "data": {
      "text/plain": [
       "Text(0.5, 1.0, 'Variance (Gross Square Footage) per Street')"
      ]
     },
     "execution_count": 21,
     "metadata": {},
     "output_type": "execute_result"
    },
    {
     "data": {
      "image/png": "[encoded data removed]",
      "text/plain": [
       "<Figure size 640x480 with 1 Axes>"
      ]
     },
     "metadata": {},
     "output_type": "display_data"
    }
   ],
   "source": [
    "metrics_df.sort_values(by=\"variance\").set_index(\"Street_Name\")[\"variance\"].plot(kind=\"bar\")\n",
    "plt.title(\"Variance (Gross Square Footage) per Street\")"
   ]
  },
  {
   "cell_type": "markdown",
   "id": "cc8da273",
   "metadata": {
    "papermill": {
     "duration": 0.012883,
     "end_time": "2024-07-25T03:31:04.584222",
     "exception": false,
     "start_time": "2024-07-25T03:31:04.571339",
     "status": "completed"
    },
    "tags": []
   },
   "source": [
    "# 🗺️Spatial Analysis"
   ]
  },
  {
   "cell_type": "code",
   "execution_count": null,
   "id": "8a4d41c1",
   "metadata": {
    "papermill": {
     "duration": 0.012907,
     "end_time": "2024-07-25T03:31:04.610299",
     "exception": false,
     "start_time": "2024-07-25T03:31:04.597392",
     "status": "completed"
    },
    "tags": []
   },
   "outputs": [],
   "source": []
  }
 ],
 "metadata": {
  "kaggle": {
   "accelerator": "none",
   "dataSources": [
    {
     "datasetId": 4546483,
     "sourceId": 7771535,
     "sourceType": "datasetVersion"
    }
   ],
   "dockerImageVersionId": 30746,
   "isGpuEnabled": false,
   "isInternetEnabled": true,
   "language": "python",
   "sourceType": "notebook"
  },
  "kernelspec": {
   "display_name": "Python 3",
   "language": "python",
   "name": "python3"
  },
  "language_info": {
   "codemirror_mode": {
    "name": "ipython",
    "version": 3
   },
   "file_extension": ".py",
   "mimetype": "text/x-python",
   "name": "python",
   "nbconvert_exporter": "python",
   "pygments_lexer": "ipython3",
   "version": "3.10.13"
  },
  "papermill": {
   "default_parameters": {},
   "duration": 11.545185,
   "end_time": "2024-07-25T03:31:05.344417",
   "environment_variables": {},
   "exception": null,
   "input_path": "__notebook__.ipynb",
   "output_path": "__notebook__.ipynb",
   "parameters": {},
   "start_time": "2024-07-25T03:30:53.799232",
   "version": "2.5.0"
  }
 },
 "nbformat": 4,
 "nbformat_minor": 5
}
